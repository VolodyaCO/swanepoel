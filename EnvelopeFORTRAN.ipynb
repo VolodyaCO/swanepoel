{
 "cells": [
  {
   "cell_type": "code",
   "execution_count": 2,
   "metadata": {},
   "outputs": [],
   "source": [
    "import numpy as np\n",
    "import matplotlib.pyplot as plt\n",
    "import pandas as pd\n",
    "%matplotlib qt"
   ]
  },
  {
   "cell_type": "code",
   "execution_count": 3,
   "metadata": {},
   "outputs": [],
   "source": [
    "with open('data.env', \"r\") as f:\n",
    "    lambdas = []\n",
    "    top = []\n",
    "    bottom = []\n",
    "    for line in f.readlines():\n",
    "        if \"'\" not in line:\n",
    "            try:\n",
    "                l, t, b = line.split()\n",
    "                lambdas.append(float(l))\n",
    "                top.append(float(t))\n",
    "                bottom.append(float(b))\n",
    "            except:\n",
    "                pass\n",
    "top = np.array(top)\n",
    "lambdas = np.array(lambdas)\n",
    "bottom = np.array(bottom)"
   ]
  },
  {
   "cell_type": "code",
   "execution_count": 4,
   "metadata": {},
   "outputs": [],
   "source": [
    "# Load spectrum data:\n",
    "df = pd.read_excel('espectro.xlsx')\n",
    "lambdas2 = df['Lambda (nm)'].values\n",
    "film = df['Película'].values\n",
    "glass = df['Vidrio'].values\n",
    "cut = np.where((lambdas2 > lambdas[0]-1) & (lambdas2 < lambdas[-1]+1))\n",
    "lambdas2 = lambdas2[cut]\n",
    "film = film[cut]\n",
    "glass = glass[cut]\n",
    "s = 1/glass + np.sqrt(1/glass - 1)"
   ]
  },
  {
   "cell_type": "code",
   "execution_count": 5,
   "metadata": {},
   "outputs": [],
   "source": [
    "plt.plot(lambdas, bottom)\n",
    "plt.plot(lambdas, film)\n",
    "plt.plot(lambdas, top)\n",
    "plt.plot(lambdas, glass)\n",
    "plt.show()"
   ]
  },
  {
   "cell_type": "code",
   "execution_count": 6,
   "metadata": {},
   "outputs": [],
   "source": [
    "# Ec. 11 de Swanepoel:\n",
    "\n",
    "N = 2*s*(top-bottom)/(top*bottom) + (s*s+1)/2\n",
    "n = np.sqrt(N + np.sqrt(N*N - s*s))"
   ]
  },
  {
   "cell_type": "code",
   "execution_count": 7,
   "metadata": {},
   "outputs": [],
   "source": [
    "plt.plot(lambdas, n)\n",
    "plt.show()"
   ]
  },
  {
   "cell_type": "code",
   "execution_count": 8,
   "metadata": {},
   "outputs": [],
   "source": [
    "with open('data.tan', \"r\") as f:\n",
    "    critical_points = []\n",
    "    for line in f.readlines():\n",
    "        if \"'\" not in line:\n",
    "            try:\n",
    "                c, _a, _b = line.split()\n",
    "                critical_points.append(int(float(c)))\n",
    "            except:\n",
    "                pass\n",
    "d_values = []\n",
    "for i in range(2, len(critical_points)):\n",
    "    # Ec. 23 Swanepoel:\n",
    "    lam1 = critical_points[i-2]\n",
    "    lam2 = critical_points[i]\n",
    "    n1 = n[np.where(lambdas==lam1)]\n",
    "    n2 = n[np.where(lambdas==lam2)]\n",
    "    d = lam1*lam2/(2*abs(lam1*n2 - lam2*n1))\n",
    "    d_values.append(d[0])"
   ]
  },
  {
   "cell_type": "code",
   "execution_count": 9,
   "metadata": {},
   "outputs": [
    {
     "data": {
      "text/plain": [
       "[52.88323195284552,\n",
       " 239.6426500838279,\n",
       " 322.51320268525467,\n",
       " 926.02641571538823,\n",
       " 914.72531645372044,\n",
       " 976.88675077748712,\n",
       " 985.65108162369916,\n",
       " 936.33508777696909,\n",
       " 1020.8596170994304,\n",
       " 1048.3876110300828,\n",
       " 1047.6028410969373,\n",
       " 1044.5909190842942,\n",
       " 1035.6737316755534]"
      ]
     },
     "execution_count": 9,
     "metadata": {},
     "output_type": "execute_result"
    }
   ],
   "source": [
    "d_values"
   ]
  },
  {
   "cell_type": "code",
   "execution_count": 10,
   "metadata": {},
   "outputs": [
    {
     "name": "stdout",
     "output_type": "stream",
     "text": [
      "993.673937233 50.4385637432\n"
     ]
    }
   ],
   "source": [
    "# First estimate of d value:\n",
    "\n",
    "true_d = d_values[3:]\n",
    "print(np.mean(true_d), np.std(true_d))\n",
    "d1 = np.mean(true_d)"
   ]
  },
  {
   "cell_type": "code",
   "execution_count": 11,
   "metadata": {},
   "outputs": [],
   "source": [
    "n_critical = []\n",
    "for c in critical_points:\n",
    "    n_crit = n[np.where(lambdas==c)][0]\n",
    "    n_critical.append(n_crit)"
   ]
  },
  {
   "cell_type": "code",
   "execution_count": 12,
   "metadata": {},
   "outputs": [],
   "source": [
    "n_over_lambda = np.array(n_critical)/np.array(critical_points)"
   ]
  },
  {
   "cell_type": "code",
   "execution_count": 13,
   "metadata": {},
   "outputs": [],
   "source": [
    "l = np.arange(len(n_critical))[::-1]\n",
    "\n",
    "plt.plot(n_over_lambda[3:], l[3:]/2, 'ro')\n",
    "plt.show()"
   ]
  },
  {
   "cell_type": "code",
   "execution_count": 14,
   "metadata": {},
   "outputs": [
    {
     "name": "stdout",
     "output_type": "stream",
     "text": [
      "991.853895094\n"
     ]
    }
   ],
   "source": [
    "z = np.polyfit(n_over_lambda[3:], l[3:]/2, 1)\n",
    "d2 = z[0]/2\n",
    "print(d2)\n",
    "p = np.poly1d(z)"
   ]
  },
  {
   "cell_type": "code",
   "execution_count": 15,
   "metadata": {},
   "outputs": [],
   "source": [
    "plt.plot(n_over_lambda[3:], l[3:]/2, 'ro')\n",
    "plt.plot(n_over_lambda[3:], p(n_over_lambda[3:]), 'k-')\n",
    "plt.show()"
   ]
  },
  {
   "cell_type": "code",
   "execution_count": 16,
   "metadata": {},
   "outputs": [],
   "source": [
    "# Ec. 16\n",
    "Ti = 2*top*bottom/(top+bottom)\n",
    "# Ec. 15\n",
    "F = 8*n*n*s/Ti\n",
    "x = (F - np.sqrt(F*F-(n*n-1)**3*(n*n-s*s*s*s)))/((n-1)**3*(n-s*s))"
   ]
  },
  {
   "cell_type": "code",
   "execution_count": 17,
   "metadata": {},
   "outputs": [],
   "source": [
    "alpha1 = -np.log(x)/d1\n",
    "alpha2 = -np.log(x)/d2"
   ]
  },
  {
   "cell_type": "code",
   "execution_count": 18,
   "metadata": {},
   "outputs": [],
   "source": [
    "# Swaneopel function for transmision:\n",
    "def T_at_lambda(lam, n, s, d, alpha):\n",
    "    \"\"\"\n",
    "    n and alpha are NOT functions of lam in this function.\n",
    "    The function computes equaiton (4) of Swanepoel's paper.\n",
    "    \"\"\"\n",
    "    A = 16*n*n*s\n",
    "    B = (n+1)**3*(n+s*s)\n",
    "    C = 2*(n*n-1)*(n*n-s*s)\n",
    "    D = (n-1)**3*(n-s*s)\n",
    "    phi = 4*np.pi*n*d/lam\n",
    "    x = np.exp(-alpha*d)\n",
    "    return A*x/(B-C*x*np.cos(phi)+ D*x*x)"
   ]
  },
  {
   "cell_type": "code",
   "execution_count": 19,
   "metadata": {},
   "outputs": [],
   "source": [
    "predicted1 = [T_at_lambda(lambdas[i], n[i], s[i], d1, alpha1[i]) for i in range(len(lambdas))]\n",
    "predicted2 = [T_at_lambda(lambdas[i], n[i], s[i], d2, alpha1[i]) for i in range(len(lambdas))]"
   ]
  },
  {
   "cell_type": "code",
   "execution_count": 20,
   "metadata": {},
   "outputs": [],
   "source": [
    "plt.plot(lambdas, predicted1)\n",
    "plt.plot(lambdas, film)\n",
    "plt.show()"
   ]
  },
  {
   "cell_type": "code",
   "execution_count": 21,
   "metadata": {},
   "outputs": [],
   "source": [
    "plt.plot(lambdas, predicted2)\n",
    "plt.plot(lambdas, film)\n",
    "plt.show()"
   ]
  },
  {
   "cell_type": "code",
   "execution_count": 22,
   "metadata": {},
   "outputs": [],
   "source": [
    "from functools import partial\n",
    "from scipy.optimize import curve_fit\n",
    "\n",
    "def fit_data(lam, d, n, s, x, lambdas):\n",
    "    idx = np.where(lambdas == lam)\n",
    "    n_indiv = n[idx][0]\n",
    "    s_indiv = s[idx][0]\n",
    "    x_indiv = x[idx][0]\n",
    "    alpha_indiv = -np.log(x_indiv)/d\n",
    "    return T_at_lambda(lam, n_indiv, s_indiv, d, alpha_indiv)\n",
    "\n",
    "fit_func = partial(fit_data, n=n, s=s, x=x, lambdas=lambdas)\n",
    "popt, pcov = curve_fit(fit_func, lambdas, film, p0=[1030])"
   ]
  },
  {
   "cell_type": "code",
   "execution_count": 23,
   "metadata": {},
   "outputs": [],
   "source": [
    "d_best = popt[0]"
   ]
  },
  {
   "cell_type": "code",
   "execution_count": 24,
   "metadata": {},
   "outputs": [],
   "source": [
    "alpha_best = -np.log(x)/d_best\n",
    "predicted_best = [fit_func(lam, d_best) for lam in lambdas]"
   ]
  },
  {
   "cell_type": "code",
   "execution_count": 25,
   "metadata": {},
   "outputs": [],
   "source": [
    "plt.plot(lambdas, predicted_best)\n",
    "plt.plot(lambdas, film)\n",
    "plt.show()"
   ]
  },
  {
   "cell_type": "code",
   "execution_count": 26,
   "metadata": {},
   "outputs": [
    {
     "name": "stdout",
     "output_type": "stream",
     "text": [
      "[ 1040.]\n"
     ]
    }
   ],
   "source": [
    "from scipy.optimize import minimize\n",
    "\n",
    "def min_difference_data(d, lambdas, n, s, x, experimental):\n",
    "    alpha = -np.log(x)/d\n",
    "    predicted = [T_at_lambda(lambdas[i], n[i], s[i], d, alpha1[i]) for i in range(len(lambdas))]\n",
    "    predicted = np.array(predicted)\n",
    "    idx = np.where(lambdas > 600)\n",
    "    diff = predicted[idx] - experimental[idx]\n",
    "    return np.sum(diff*diff)\n",
    "\n",
    "result = minimize(min_difference_data, args=(lambdas, n, s, x, film), bounds=([1020, 1040],), x0=[1035], method='TNC')\n",
    "d_best_min = result['x']\n",
    "print(d_best_min)"
   ]
  },
  {
   "cell_type": "code",
   "execution_count": 27,
   "metadata": {},
   "outputs": [],
   "source": [
    "alpha_best_min = -np.log(x)/d_best_min\n",
    "predicted_best_min = [fit_func(lam, d_best_min) for lam in lambdas]"
   ]
  },
  {
   "cell_type": "code",
   "execution_count": 28,
   "metadata": {},
   "outputs": [],
   "source": [
    "plt.plot(lambdas, predicted_best_min)\n",
    "plt.plot(lambdas, film)\n",
    "plt.show()"
   ]
  },
  {
   "cell_type": "code",
   "execution_count": 29,
   "metadata": {},
   "outputs": [
    {
     "name": "stdout",
     "output_type": "stream",
     "text": [
      "1029.83967936\n"
     ]
    }
   ],
   "source": [
    "# This plot shows that the actual minimum is\n",
    "\n",
    "d_list = np.linspace(950, 1070, 500)\n",
    "diffs = [min_difference_data(d, lambdas, n, s, x, film) for d in d_list]\n",
    "idx_min = np.where(np.array(diffs)==min(diffs))\n",
    "the_real_d = d_list[idx_min][0]\n",
    "print(the_real_d)\n",
    "plt.plot(d_list, diffs)\n",
    "plt.show()"
   ]
  },
  {
   "cell_type": "code",
   "execution_count": 30,
   "metadata": {},
   "outputs": [],
   "source": [
    "real_alpha = -np.log(x)/the_real_d\n",
    "real_predicted = [fit_func(lam, the_real_d) for lam in lambdas]\n",
    "plt.plot(lambdas, real_predicted)\n",
    "plt.plot(lambdas, film)\n",
    "plt.show()"
   ]
  },
  {
   "cell_type": "markdown",
   "metadata": {},
   "source": [
    "# Tauc"
   ]
  },
  {
   "cell_type": "code",
   "execution_count": 31,
   "metadata": {},
   "outputs": [],
   "source": [
    "#lambda * nu = c\n",
    "c = 299792458000000000  #nm per second\n",
    "nus = c/lambdas\n",
    "h = 4.135667662e-15 # eV * s"
   ]
  },
  {
   "cell_type": "code",
   "execution_count": 55,
   "metadata": {},
   "outputs": [],
   "source": [
    "ns = [2., 2./3., 0.5, 1./3.]\n",
    "labels = [\"2\", \"2/3\", \"1/2\", \"1/3\"]\n",
    "bounds = [[2.32, 2.37], [2.18, 2.3], [2.18, 2.3], [2.2, 2.33]]"
   ]
  },
  {
   "cell_type": "code",
   "execution_count": 56,
   "metadata": {},
   "outputs": [],
   "source": [
    "ax1 = plt.subplot(221)\n",
    "ax2 = plt.subplot(222)\n",
    "ax3 = plt.subplot(223, sharex=ax1)\n",
    "ax4 = plt.subplot(224)\n",
    "#, ((ax1, ax2), (ax3, ax4)) = plt.subplots(2, 2)\n",
    "axes = [ax1, ax2, ax3, ax4]"
   ]
  },
  {
   "cell_type": "code",
   "execution_count": 57,
   "metadata": {},
   "outputs": [
    {
     "name": "stdout",
     "output_type": "stream",
     "text": [
      "2 2.30129107628\n",
      "2/3 2.04914062896\n",
      "1/2 1.98691138007\n",
      "1/3 1.88494219409\n"
     ]
    }
   ],
   "source": [
    "for l, n in enumerate(ns):\n",
    "    ax = axes[l]\n",
    "    y = (real_alpha*h*nus)**n\n",
    "    x = h*nus\n",
    "    bmin, bmax = bounds[l]\n",
    "    idx = np.where((x>bmin) & (x<bmax))\n",
    "    xfit = x[idx]\n",
    "    yfit = y[idx]\n",
    "    z = np.polyfit(xfit, yfit, 1)\n",
    "    p = np.poly1d(z)\n",
    "    x0 = -z[1]/z[0]\n",
    "    x_line_plot = [x0, xfit[0]]\n",
    "    yline = p(np.array(x_line_plot))\n",
    "    ax.plot(x, y)\n",
    "    ax.plot(xfit, yfit, marker='o', ms=4, lw=0)\n",
    "    ax.plot(x_line_plot, yline)\n",
    "    ax.set_xlabel(r\"$h\\nu$ (eV)\", fontsize=16)\n",
    "    ax.set_ylabel(r\"$(\\alpha h \\nu)^{{{0}}}$\".format(labels[l]), fontsize=16)\n",
    "    ax.ticklabel_format(style='sci', axis='y', scilimits=(0,0), useMathText=True)\n",
    "    gap = -z[1]/z[0]\n",
    "    print(labels[l], gap)\n",
    "plt.tight_layout()\n",
    "plt.show()"
   ]
  },
  {
   "cell_type": "code",
   "execution_count": null,
   "metadata": {},
   "outputs": [],
   "source": []
  }
 ],
 "metadata": {
  "kernelspec": {
   "display_name": "Python 3",
   "language": "python",
   "name": "python3"
  },
  "language_info": {
   "codemirror_mode": {
    "name": "ipython",
    "version": 3
   },
   "file_extension": ".py",
   "mimetype": "text/x-python",
   "name": "python",
   "nbconvert_exporter": "python",
   "pygments_lexer": "ipython3",
   "version": "3.5.4"
  }
 },
 "nbformat": 4,
 "nbformat_minor": 2
}
