{
 "cells": [
  {
   "cell_type": "code",
   "execution_count": 61,
   "metadata": {},
   "outputs": [],
   "source": [
    "import numpy as np\n",
    "import matplotlib.pyplot as plt\n",
    "import pandas as pd\n",
    "%matplotlib qt"
   ]
  },
  {
   "cell_type": "code",
   "execution_count": 55,
   "metadata": {},
   "outputs": [],
   "source": [
    "with open('data.env', \"r\") as f:\n",
    "    lambdas = []\n",
    "    top = []\n",
    "    bottom = []\n",
    "    for line in f.readlines():\n",
    "        if \"'\" not in line:\n",
    "            try:\n",
    "                l, t, b = line.split()\n",
    "                lambdas.append(float(l))\n",
    "                top.append(float(t))\n",
    "                bottom.append(float(b))\n",
    "            except:\n",
    "                pass\n",
    "top = np.array(top)\n",
    "lambdas = np.array(lambdas)\n",
    "bottom = np.array(bottom)"
   ]
  },
  {
   "cell_type": "code",
   "execution_count": 56,
   "metadata": {},
   "outputs": [],
   "source": [
    "# Load spectrum data:\n",
    "df = pd.read_excel('espectro.xlsx')\n",
    "lambdas2 = df['Lambda (nm)'].values\n",
    "film = df['Película'].values\n",
    "glass = df['Vidrio'].values\n",
    "cut = np.where((lambdas2 > lambdas[0]-1) & (lambdas2 < lambdas[-1]+1))\n",
    "lambdas2 = lambdas2[cut]\n",
    "film = film[cut]\n",
    "glass = glass[cut]\n",
    "s = 1/glass + np.sqrt(1/glass - 1)"
   ]
  },
  {
   "cell_type": "code",
   "execution_count": 62,
   "metadata": {},
   "outputs": [],
   "source": [
    "plt.plot(lambdas, bottom)\n",
    "plt.plot(lambdas, film)\n",
    "plt.plot(lambdas, top)\n",
    "plt.plot(lambdas, glass)\n",
    "plt.show()"
   ]
  },
  {
   "cell_type": "code",
   "execution_count": 59,
   "metadata": {},
   "outputs": [],
   "source": [
    "# Ec. 11 de Swanepoel:\n",
    "\n",
    "N = 2*s*(top-bottom)/(top*bottom) + (s*s+1)/2\n",
    "n = np.sqrt(N + np.sqrt(N*N - s*s))"
   ]
  },
  {
   "cell_type": "code",
   "execution_count": 60,
   "metadata": {},
   "outputs": [
    {
     "data": {
      "image/png": "[encoded data removed]",
      "text/plain": [
       "<matplotlib.figure.Figure at 0x7f0a7bc7a630>"
      ]
     },
     "metadata": {},
     "output_type": "display_data"
    }
   ],
   "source": [
    "plt.plot(lambdas, n)\n",
    "plt.show()"
   ]
  },
  {
   "cell_type": "code",
   "execution_count": 67,
   "metadata": {},
   "outputs": [],
   "source": [
    "with open('data.tan', \"r\") as f:\n",
    "    critical_points = []\n",
    "    for line in f.readlines():\n",
    "        if \"'\" not in line:\n",
    "            try:\n",
    "                c, _a, _b = line.split()\n",
    "                critical_points.append(int(float(c)))\n",
    "            except:\n",
    "                pass\n",
    "d_values = []\n",
    "for i in range(2, len(critical_points)):\n",
    "    # Ec. 23 Swanepoel:\n",
    "    lam1 = critical_points[i-2]\n",
    "    lam2 = critical_points[i]\n",
    "    n1 = n[np.where(lambdas==lam1)]\n",
    "    n2 = n[np.where(lambdas==lam2)]\n",
    "    d = lam1*lam2/(2*abs(lam1*n2 - lam2*n1))\n",
    "    d_values.append(d)"
   ]
  },
  {
   "cell_type": "code",
   "execution_count": 68,
   "metadata": {},
   "outputs": [
    {
     "data": {
      "text/plain": [
       "[array([ 52.88323195]),\n",
       " array([ 239.64265008]),\n",
       " array([ 322.51320269]),\n",
       " array([ 926.02641572]),\n",
       " array([ 914.72531645]),\n",
       " array([ 976.88675078]),\n",
       " array([ 985.65108162]),\n",
       " array([ 936.33508778]),\n",
       " array([ 1020.8596171]),\n",
       " array([ 1048.38761103]),\n",
       " array([ 1047.6028411]),\n",
       " array([ 1044.59091908]),\n",
       " array([ 1035.67373168])]"
      ]
     },
     "execution_count": 68,
     "metadata": {},
     "output_type": "execute_result"
    }
   ],
   "source": [
    "d_values"
   ]
  },
  {
   "cell_type": "code",
   "execution_count": null,
   "metadata": {},
   "outputs": [],
   "source": []
  }
 ],
 "metadata": {
  "kernelspec": {
   "display_name": "Python 3",
   "language": "python",
   "name": "python3"
  },
  "language_info": {
   "codemirror_mode": {
    "name": "ipython",
    "version": 3
   },
   "file_extension": ".py",
   "mimetype": "text/x-python",
   "name": "python",
   "nbconvert_exporter": "python",
   "pygments_lexer": "ipython3",
   "version": "3.5.4"
  }
 },
 "nbformat": 4,
 "nbformat_minor": 2
}
